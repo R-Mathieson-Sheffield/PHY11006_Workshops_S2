{
 "cells": [
  {
   "cell_type": "markdown",
   "id": "a09696f4",
   "metadata": {},
   "source": [
    "# Take Your Barometer For A Walk!\n",
    "\n",
    "![image, alt = \"An image the Peak District in Autumn.\"](S2Wk2_Figures/Peaks.jpg)\n",
    "\n",
    "The focus of this session is the analysis you must perform for the \"Take Your Barometer For A Walk!\" project.\n",
    "\n",
    "## Analysis Session\n",
    "\n",
    "You are free to use this session as you wish, but you will want to focus on the data analysis techniques required for your project work. You will want to employ some of the skills we developed last semester when learning to use Python for data analysis and presentation. For example:\n",
    "\n",
    "- Are you going to perform the same calculation(s) multiple times? **Define a function.**\n",
    "\n",
    "\n",
    "- Are you planning iterate through a task? **Use a loop.**\n",
    "\n",
    "\n",
    "- Are there critera that should be taken into consideration when performing your analysis? **Use conditional statements.**\n",
    "\n",
    "\n",
    "- Do you need to perfrom a calibration or extract information from linear data? **Perform a linear regression.**\n",
    "\n",
    "\n",
    "- Do you need to present your data is a format suitible for scientific communication purposes? **Make a high quality plot.**\n",
    "\n",
    "\n",
    "- Unsure how to get your code to do what you want it to or have an error? **Use Python Documentation, StackOverflow and W3Schools**.\n",
    "\n",
    "\n",
    "---\n",
    "\n",
    "The projects you are working on may differ between groups and for that reason it is not possible to prescribe a coding script for you to follow. That being said you may wish to break down your analysis into these familiar steps:\n",
    "\n",
    "1. Import the Python libraries you will use to perform your analysis.\n",
    "\n",
    "2. Use an appropriate package to import the data from your barometer app.\n",
    "\n",
    "3. Plan your analysis.\n",
    "\n",
    "4. Define functions for the code you will use mutliple times. \n",
    "\n",
    "5. Perform your calculations, regressions and error analysis. \n",
    "\n",
    "6. Make high quality figures to include in your presentation. \n",
    "\n",
    "Now use this time for your data analysis. Remember that you have access to all of the resources we used last semester and should you need any additional help, please just ask!\n",
    "\n",
    "\n",
    "--- \n",
    "## Example Python Analysis\n",
    "\n",
    "Hopefully you are fairly comfortable using Python to perform scientific analysis after the semester 1 labs and skills workshops, but if you still are not too sure, below is an example of a generic analysis.\n",
    "\n",
    "Let's pretend that we have carried out a simple investigation to determine the spring constant of a spring. In the investigation, masses were added to the end of a spring and the extension of the spring was measured using a digital device with an uncertainty of $0.1\\,$mm.\n",
    "\n",
    "1. In this analysis the first thing I will want to do is import the libraries that will be used in the analysis and my data."
   ]
  },
  {
   "cell_type": "code",
   "execution_count": 4,
   "id": "b02a730f",
   "metadata": {},
   "outputs": [
    {
     "data": {
      "image/png": "[encoded data removed]",
      "text/plain": [
       "<Figure size 576x504 with 1 Axes>"
      ]
     },
     "metadata": {
      "needs_background": "light"
     },
     "output_type": "display_data"
    }
   ],
   "source": [
    "# Import the libraries that will be used in the analysis\n",
    "import matplotlib.pyplot as plt\n",
    "%matplotlib inline\n",
    "import numpy as np\n",
    "from scipy.stats import linregress\n",
    "\n",
    "# Import our data (in this instance from a comma seperated values (.csv) file)\n",
    "Mass1, Extension1, ErrorExtension1 = np.genfromtxt(\"Force_Extension_Data.csv\", \n",
    "                                                delimiter = ',', unpack = True, skip_header = 1)\n",
    "\n",
    "# If we had a different file type (such as a tab seperated values (.tsv) file) \n",
    "# we can simply change the delimiter to \"\\t\".\n",
    "\n",
    "# I will also import the data to visualise it before I perform my analysis\n",
    "plt.figure(figsize = (8,7))\n",
    "plt.errorbar(Mass1, Extension1, yerr = ErrorExtension1, marker = 'o', linestyle = ' ', color = 'k', label = 'Data')\n",
    "plt.legend()\n",
    "plt.xlabel(\"Mass (kg)\")\n",
    "plt.ylabel(\"Extension (m)\")\n",
    "plt.title('A Force-Extension Plot for a Spring')\n",
    "plt.show()"
   ]
  },
  {
   "cell_type": "markdown",
   "id": "d3bb8bec",
   "metadata": {},
   "source": [
    "---\n",
    "2. Once we have imported our data, we can perform any necessary calculations. Here I am going to define a function to convert between the mass I applied to my spring and the force this equates to. I do not actually need to define a function to do this as it is only a simple calculation and I am only performing it once, but this is a good reminder of how we would define one."
   ]
  },
  {
   "cell_type": "code",
   "execution_count": 5,
   "id": "a09d1e6e",
   "metadata": {},
   "outputs": [],
   "source": [
    "def MassToForce(Mass):\n",
    "    force = Mass * 9.81\n",
    "    return force"
   ]
  },
  {
   "cell_type": "markdown",
   "id": "90045b35",
   "metadata": {},
   "source": [
    "---\n",
    "3. Now I will use my function and determine the spring constant of the spring using a linear regression. First, we must rearrange the equation:\n",
    "\n",
    "$$ F = k \\Delta x. $$ \n",
    "\n",
    "As we will be plotting our independent variable (force) on the x-axis and our dependant variable (extension) on the y axis:\n",
    "\n",
    "$$ \\Delta x = \\frac{1}{k}F. $$\n",
    "\n",
    "The spring constant, $k$, will simply be equal to the inverse of the gradient determined by the regression. "
   ]
  },
  {
   "cell_type": "code",
   "execution_count": 6,
   "id": "c372fda9",
   "metadata": {},
   "outputs": [],
   "source": [
    "# Use the function defined previously to convert between mass and force (F = mg)\n",
    "Force1 = MassToForce(Mass1) \n",
    "\n",
    "# Perform our linear regression using scipy.stats\n",
    "results = linregress(Force1, Extension1)\n",
    "\n",
    "# Extract our the calculated gradient and intercept (and their uncertainties) from the regression results.\n",
    "gradient = results.slope\n",
    "errorGradient = results.stderr\n",
    "intercept = results.intercept\n",
    "errorIntercept = results.intercept_stderr"
   ]
  },
  {
   "cell_type": "markdown",
   "id": "edabcf61",
   "metadata": {},
   "source": [
    "---\n",
    "4. After we have extracted the desired parameters from the linear regression, the fit results can be reported appropriately. \n",
    "\n",
    "Note that the associated uncertainties are only reported to a single significant figure and that the precision of the values matches that of the uncertainties. These values are also reported with units. **This is how we should always present results with uncertainties.**"
   ]
  },
  {
   "cell_type": "code",
   "execution_count": 7,
   "id": "355c6852",
   "metadata": {},
   "outputs": [
    {
     "name": "stdout",
     "output_type": "stream",
     "text": [
      "The gradient of the line of best fit is equal to: (0.0348 +/- 0.0007) N^-1 \n",
      "\n",
      "The intercept of the line of best fit is equal to: (-0.001 +/- 0.003) m \n",
      "\n",
      "The correlation coefficient and R2 value for this fit are: 0.9977 and 0.9954 respectively. \n",
      "\n"
     ]
    }
   ],
   "source": [
    "print(\"The gradient of the line of best fit is equal to:\", \"({:.4f}\".format(gradient), \n",
    "      \"+/-\", \"{:.4f})\".format(errorGradient), 'N^-1 \\n')\n",
    "\n",
    "print(\"The intercept of the line of best fit is equal to:\", \"({:.3f}\".format(intercept), \n",
    "      \"+/-\", \"{:.3f})\".format(errorIntercept), 'm \\n')\n",
    "\n",
    "print(\"The correlation coefficient and R2 value for this fit are:\", \n",
    "      \"{:.4f}\".format(results.rvalue), \"and\", \"{:.4f}\".format(results.rvalue**2), \"respectively. \\n\")"
   ]
  },
  {
   "cell_type": "markdown",
   "id": "f207d4a4",
   "metadata": {},
   "source": [
    "---\n",
    "5. We may then use the gradient and its associated uncertainty to determine the spring constant and its associated uncertainty. The error propagation uses the following rule:\n",
    "\n",
    "\\begin{equation} \n",
    "Z = A^n,\n",
    "\\end{equation}\n",
    "\n",
    "and\n",
    "\n",
    "\\begin{equation}\n",
    "\\Delta Z = n \\frac{\\Delta A}{A} \\Delta Z. \n",
    "\\end{equation}\n",
    "\n",
    "Therefore the error on the spring constant, $k$, is determined from the gradient of the line of best fit, $m$, as follows:\n",
    "\n",
    "\\begin{equation}\n",
    "k = \\frac{1}{m} = m^{-1},\n",
    "\\end{equation}\n",
    "\n",
    "meaning that $Z = k$, $A=m$ and $n=-1$. If we substitute these terms into our error equation above we get:\n",
    "\n",
    "\\begin{equation}\n",
    "\\Delta k = -1 \\times \\frac{\\Delta m}{m} \\times k.\n",
    "\\end{equation}\n",
    "\n",
    "We take the magnitude of $\\Delta k$ to be equal to the error as it can either be positive or negative (i.e plus or minus).\n"
   ]
  },
  {
   "cell_type": "code",
   "execution_count": 8,
   "id": "99bbdabf",
   "metadata": {},
   "outputs": [
    {
     "name": "stdout",
     "output_type": "stream",
     "text": [
      "The spring constant, k, is equal to: (28.8 +/- 0.6) Nm^-1 \n",
      "\n"
     ]
    }
   ],
   "source": [
    "# Calculate and print the spring constant\n",
    "springConstant = 1/gradient\n",
    "errorSpringConstant = abs(-1 * (errorGradient/gradient) * springConstant)\n",
    "\n",
    "print(\"The spring constant, k, is equal to:\", \"({:.1f}\".format(springConstant), \n",
    "      \"+/-\", \"{:.1f})\".format(errorSpringConstant), 'Nm^-1 \\n')"
   ]
  },
  {
   "cell_type": "markdown",
   "id": "6df0b6db",
   "metadata": {},
   "source": [
    "---\n",
    "6. Now that I have performed my analysis, I can make a high quality plot to be used in my presentation/report/poster."
   ]
  },
  {
   "cell_type": "code",
   "execution_count": 9,
   "id": "1a42de77",
   "metadata": {},
   "outputs": [
    {
     "data": {
      "image/png": "[encoded data removed]",
      "text/plain": [
       "<Figure size 576x504 with 1 Axes>"
      ]
     },
     "metadata": {
      "needs_background": "light"
     },
     "output_type": "display_data"
    }
   ],
   "source": [
    "plt.figure(figsize = (8,7))\n",
    "plt.errorbar(Force1, Extension1, yerr = ErrorExtension1, marker = 'o', linestyle = ' ', color = 'k', label = 'Data')\n",
    "plt.plot(Force1, (gradient*Force1+intercept), marker = ' ', linestyle = '--', color = 'red', label = 'Fit')\n",
    "plt.legend()\n",
    "plt.xlabel(\"Force (N)\")\n",
    "plt.ylabel(\"Extension (m)\")\n",
    "plt.title('A Force-Extension Plot for a Spring')\n",
    "plt.show()"
   ]
  },
  {
   "cell_type": "code",
   "execution_count": null,
   "id": "9613b88a",
   "metadata": {},
   "outputs": [],
   "source": []
  }
 ],
 "metadata": {
  "kernelspec": {
   "display_name": "Python 3",
   "language": "python",
   "name": "python3"
  },
  "language_info": {
   "codemirror_mode": {
    "name": "ipython",
    "version": 3
   },
   "file_extension": ".py",
   "mimetype": "text/x-python",
   "name": "python",
   "nbconvert_exporter": "python",
   "pygments_lexer": "ipython3",
   "version": "3.7.4"
  }
 },
 "nbformat": 4,
 "nbformat_minor": 5
}

{
 "cells": [
  {
   "cell_type": "markdown",
   "id": "1487bc8c",
   "metadata": {},
   "source": [
    "#  Pandas DataFrames\n",
    "\n",
    "![image, alt = \"An image of a panda working on some code with a smaller panda sat next to them.\"](S2Wk6_Figures/Panda.jpg)\n",
    "\n",
    "## Learning Objectives\n",
    "- Understand the advantages of using Pandas DataFrames.\n",
    "- Be able to create a DataFrame by importing data or converting a dictionary.\n",
    "- Be able to present, locate, filter and modify data within a DataFrame. \n",
    "- Be able to use use DataFrame functions\n",
    "\n",
    "Today we are going to look at a new Python library called Pandas. This library may be used when analysing more complex datasets. \n",
    "\n",
    "---\n",
    "## Why use Pandas?\n",
    "\n",
    "Up to this point in your degree it is likely that you have only worked with small data sets and that analysing your data has not posed too many challanges beyond those associated with learning a new skill. For this sort of work the methods and tools we have used to this point are more than sufficient, however as we begin to work with larger and more complex datasets, these methods may become inefficient and labourious - enter pandas. The key advantages of learning to use pandas are:\n",
    "\n",
    "- Pandas is very useful for working with large amounts of data.\n",
    "- Unlike numpy data does not have to be numeric. \n",
    "- Data can be cleaned using pandas.\n",
    "- Data can be filtered using pandas.\n",
    "- Subsets of data can be extracted easily from a pandas *dataframe*.\n",
    "- Pandas is used in data science. \n",
    "\n",
    "One key disadvantage of using numpy is that it is unable to use categorical data (e.g. names, places, types, etc.) and instead can only deal with numbers. Take a look at the example data below and what happens when we try to feed it into numpy from a csv file:\n",
    "\n",
    "| Name | Age | Eye Colour | Height (m)| \n",
    "|:------:|:------:|:-----:|:-----:|\n",
    "| Joan | 54 | Brown | 1.54 |\n",
    "| Davide | 36 | Blue | 1.85 |\n",
    "| Liam | 29 | Hazel | 1.74 |\n",
    "| Emily | 28 | Green | 1.64 |\n",
    "| Carlos | 15 | Green | 1.77 |\n",
    "| Katie | 11 | Blue | 1.73 |\n",
    "| Ross | 26 | Blue | 1.79 |\n",
    "| Zack | 35 | Hazel | 1.55 |\n",
    "| Daisy | 78 | Brown | 1.50 |\n",
    "| Kim | 7 | Blue | 1.10 |\n",
    "| Schmonathan | 68 | Brown | 1.68 |\n",
    "| Jamantha | 57 | Green | 1.43 |\n",
    "| Carlos | 20 | Amber | 1.91 |"
   ]
  },
  {
   "cell_type": "code",
   "execution_count": 1,
   "id": "426e728d",
   "metadata": {
    "tags": [
     "remove-input"
    ]
   },
   "outputs": [
    {
     "name": "stdout",
     "output_type": "stream",
     "text": [
      "[[  nan   nan   nan   nan]\n",
      " [  nan 54.     nan  1.54]\n",
      " [  nan 36.     nan  1.85]\n",
      " [  nan 29.     nan  1.74]\n",
      " [  nan 28.     nan  1.64]\n",
      " [  nan 15.     nan  1.77]\n",
      " [  nan 12.     nan  1.73]\n",
      " [  nan 26.     nan  1.79]\n",
      " [  nan 35.     nan  1.55]\n",
      " [  nan 78.     nan  1.5 ]\n",
      " [  nan  7.     nan  1.1 ]\n",
      " [  nan 68.     nan  1.68]\n",
      " [  nan 57.     nan  1.43]\n",
      " [  nan 20.     nan  1.91]]\n"
     ]
    }
   ],
   "source": [
    "import numpy as np\n",
    "Data = np.genfromtxt(\"PeopleData.csv\", delimiter = ',', unpack = False, skip_header=0)\n",
    "print(Data)"
   ]
  },
  {
   "cell_type": "markdown",
   "id": "871b9dda",
   "metadata": {},
   "source": [
    "It is clear that numpy is unable to be used when processing this data as it returns \"nan\" values (nan = not a number). Now let's try using a pandas to import the same data:"
   ]
  },
  {
   "cell_type": "code",
   "execution_count": 2,
   "id": "6d68a5fb",
   "metadata": {
    "tags": [
     "remove-input"
    ]
   },
   "outputs": [
    {
     "data": {
      "text/html": [
       "<div>\n",
       "<style scoped>\n",
       "    .dataframe tbody tr th:only-of-type {\n",
       "        vertical-align: middle;\n",
       "    }\n",
       "\n",
       "    .dataframe tbody tr th {\n",
       "        vertical-align: top;\n",
       "    }\n",
       "\n",
       "    .dataframe thead th {\n",
       "        text-align: right;\n",
       "    }\n",
       "</style>\n",
       "<table border=\"1\" class=\"dataframe\">\n",
       "  <thead>\n",
       "    <tr style=\"text-align: right;\">\n",
       "      <th></th>\n",
       "      <th>Name</th>\n",
       "      <th>Age</th>\n",
       "      <th>Eye Colour</th>\n",
       "      <th>Height (m)</th>\n",
       "    </tr>\n",
       "  </thead>\n",
       "  <tbody>\n",
       "    <tr>\n",
       "      <td>0</td>\n",
       "      <td>Joan</td>\n",
       "      <td>54</td>\n",
       "      <td>Blue</td>\n",
       "      <td>1.54</td>\n",
       "    </tr>\n",
       "    <tr>\n",
       "      <td>1</td>\n",
       "      <td>Davide</td>\n",
       "      <td>36</td>\n",
       "      <td>Brown</td>\n",
       "      <td>1.85</td>\n",
       "    </tr>\n",
       "    <tr>\n",
       "      <td>2</td>\n",
       "      <td>Liam</td>\n",
       "      <td>29</td>\n",
       "      <td>Hazel</td>\n",
       "      <td>1.74</td>\n",
       "    </tr>\n",
       "    <tr>\n",
       "      <td>3</td>\n",
       "      <td>Emily</td>\n",
       "      <td>28</td>\n",
       "      <td>Green</td>\n",
       "      <td>1.64</td>\n",
       "    </tr>\n",
       "    <tr>\n",
       "      <td>4</td>\n",
       "      <td>Carlos</td>\n",
       "      <td>15</td>\n",
       "      <td>Green</td>\n",
       "      <td>1.77</td>\n",
       "    </tr>\n",
       "    <tr>\n",
       "      <td>5</td>\n",
       "      <td>Katie</td>\n",
       "      <td>12</td>\n",
       "      <td>Blue</td>\n",
       "      <td>1.73</td>\n",
       "    </tr>\n",
       "    <tr>\n",
       "      <td>6</td>\n",
       "      <td>Ross</td>\n",
       "      <td>26</td>\n",
       "      <td>Blue</td>\n",
       "      <td>1.79</td>\n",
       "    </tr>\n",
       "    <tr>\n",
       "      <td>7</td>\n",
       "      <td>Zack</td>\n",
       "      <td>35</td>\n",
       "      <td>Hazel</td>\n",
       "      <td>1.55</td>\n",
       "    </tr>\n",
       "    <tr>\n",
       "      <td>8</td>\n",
       "      <td>Daisy</td>\n",
       "      <td>78</td>\n",
       "      <td>Brown</td>\n",
       "      <td>1.50</td>\n",
       "    </tr>\n",
       "    <tr>\n",
       "      <td>9</td>\n",
       "      <td>Kim</td>\n",
       "      <td>7</td>\n",
       "      <td>Blue</td>\n",
       "      <td>1.10</td>\n",
       "    </tr>\n",
       "    <tr>\n",
       "      <td>10</td>\n",
       "      <td>Schmonathan</td>\n",
       "      <td>68</td>\n",
       "      <td>Brown</td>\n",
       "      <td>1.68</td>\n",
       "    </tr>\n",
       "    <tr>\n",
       "      <td>11</td>\n",
       "      <td>Jamantha</td>\n",
       "      <td>57</td>\n",
       "      <td>Green</td>\n",
       "      <td>1.43</td>\n",
       "    </tr>\n",
       "    <tr>\n",
       "      <td>12</td>\n",
       "      <td>Carlos</td>\n",
       "      <td>20</td>\n",
       "      <td>Amber</td>\n",
       "      <td>1.91</td>\n",
       "    </tr>\n",
       "  </tbody>\n",
       "</table>\n",
       "</div>"
      ],
      "text/plain": [
       "           Name  Age Eye Colour  Height (m)\n",
       "0          Joan   54       Blue        1.54\n",
       "1        Davide   36      Brown        1.85\n",
       "2          Liam   29      Hazel        1.74\n",
       "3         Emily   28      Green        1.64\n",
       "4        Carlos   15      Green        1.77\n",
       "5         Katie   12       Blue        1.73\n",
       "6          Ross   26       Blue        1.79\n",
       "7          Zack   35      Hazel        1.55\n",
       "8         Daisy   78      Brown        1.50\n",
       "9           Kim    7       Blue        1.10\n",
       "10  Schmonathan   68      Brown        1.68\n",
       "11     Jamantha   57      Green        1.43\n",
       "12       Carlos   20      Amber        1.91"
      ]
     },
     "metadata": {},
     "output_type": "display_data"
    }
   ],
   "source": [
    "import pandas as pd\n",
    "data = pd.read_csv(\"PeopleData.csv\")\n",
    "display(data)"
   ]
  },
  {
   "cell_type": "markdown",
   "id": "c23d9e03",
   "metadata": {},
   "source": [
    "Pandas has not only been able to read in all of the data from the csv file, but it has also presented the data much more clearly. This is what we refer to as a *DataFrame*."
   ]
  },
  {
   "cell_type": "markdown",
   "id": "857b8386",
   "metadata": {},
   "source": [
    "---\n",
    "## Creating A DataFrame from Scratch\n",
    "\n",
    "It is often the case that rather than importing data into a DataFrame, we may just want to create one in our script. To do this is relatively simple, just take a look at the snippet of code below:\n",
    "1. First I will create a dictionary containing information about various european countries.\n",
    "2. Secondly, I will convert this into a pandas DataFrame.\n",
    "\n",
    "**Take a look at the lines of code below and ensure you understand how it is constructed**."
   ]
  },
  {
   "cell_type": "code",
   "execution_count": 3,
   "id": "66793bd7",
   "metadata": {},
   "outputs": [
    {
     "data": {
      "text/html": [
       "<div>\n",
       "<style scoped>\n",
       "    .dataframe tbody tr th:only-of-type {\n",
       "        vertical-align: middle;\n",
       "    }\n",
       "\n",
       "    .dataframe tbody tr th {\n",
       "        vertical-align: top;\n",
       "    }\n",
       "\n",
       "    .dataframe thead th {\n",
       "        text-align: right;\n",
       "    }\n",
       "</style>\n",
       "<table border=\"1\" class=\"dataframe\">\n",
       "  <thead>\n",
       "    <tr style=\"text-align: right;\">\n",
       "      <th></th>\n",
       "      <th>Country</th>\n",
       "      <th>Capital City</th>\n",
       "      <th>Population</th>\n",
       "      <th>Life Expectancy</th>\n",
       "    </tr>\n",
       "  </thead>\n",
       "  <tbody>\n",
       "    <tr>\n",
       "      <td>0</td>\n",
       "      <td>United Kingdom</td>\n",
       "      <td>London</td>\n",
       "      <td>67330000</td>\n",
       "      <td>80.90</td>\n",
       "    </tr>\n",
       "    <tr>\n",
       "      <td>1</td>\n",
       "      <td>Italy</td>\n",
       "      <td>Rome</td>\n",
       "      <td>59110000</td>\n",
       "      <td>82.34</td>\n",
       "    </tr>\n",
       "    <tr>\n",
       "      <td>2</td>\n",
       "      <td>France</td>\n",
       "      <td>Paris</td>\n",
       "      <td>67750000</td>\n",
       "      <td>82.18</td>\n",
       "    </tr>\n",
       "    <tr>\n",
       "      <td>3</td>\n",
       "      <td>Sweden</td>\n",
       "      <td>Stockholm</td>\n",
       "      <td>10420000</td>\n",
       "      <td>82.41</td>\n",
       "    </tr>\n",
       "    <tr>\n",
       "      <td>4</td>\n",
       "      <td>Finland</td>\n",
       "      <td>Helsinki</td>\n",
       "      <td>5541000</td>\n",
       "      <td>82.13</td>\n",
       "    </tr>\n",
       "    <tr>\n",
       "      <td>5</td>\n",
       "      <td>Malta</td>\n",
       "      <td>Valletta</td>\n",
       "      <td>518536</td>\n",
       "      <td>82.65</td>\n",
       "    </tr>\n",
       "    <tr>\n",
       "      <td>6</td>\n",
       "      <td>Germany</td>\n",
       "      <td>Berlin</td>\n",
       "      <td>83200000</td>\n",
       "      <td>80.94</td>\n",
       "    </tr>\n",
       "  </tbody>\n",
       "</table>\n",
       "</div>"
      ],
      "text/plain": [
       "          Country Capital City  Population  Life Expectancy\n",
       "0  United Kingdom       London    67330000            80.90\n",
       "1           Italy         Rome    59110000            82.34\n",
       "2          France        Paris    67750000            82.18\n",
       "3          Sweden    Stockholm    10420000            82.41\n",
       "4         Finland     Helsinki     5541000            82.13\n",
       "5           Malta     Valletta      518536            82.65\n",
       "6         Germany       Berlin    83200000            80.94"
      ]
     },
     "metadata": {},
     "output_type": "display_data"
    }
   ],
   "source": [
    "# Creating my dictionary\n",
    "euroData = {'Country': ['United Kingdom', 'Italy', 'France', 'Sweden', 'Finland', 'Malta', 'Germany'],\n",
    "        'Capital City': ['London', 'Rome', 'Paris', 'Stockholm', 'Helsinki', 'Valletta', 'Berlin'],\n",
    "        'Population': [67330000, 59110000, 67750000, 10420000, 5541000, 518536, 83200000],\n",
    "        'Life Expectancy': [80.90, 82.34, 82.18, 82.41, 82.13, 82.65, 80.94]}\n",
    "\n",
    "# Converting my dictionary into a pandas DataFrame\n",
    "euroData = pd.DataFrame(data=euroData)\n",
    "display(euroData)"
   ]
  },
  {
   "cell_type": "markdown",
   "id": "10677c9d",
   "metadata": {},
   "source": [
    "---\n",
    "## What can we do with a DataFrame?\n",
    "\n",
    "### Importing Data\n",
    "\n",
    "Importing data using pandas is essentially the same as importing data using numpy:\n",
    "\n",
    "- First, we will import pandas into the script in the same way we did for numpy.\n",
    "- Next, use we use \"read_csv\" to import the data into a DataFrame."
   ]
  },
  {
   "cell_type": "code",
   "execution_count": 4,
   "id": "5eef0b47",
   "metadata": {},
   "outputs": [],
   "source": [
    "import pandas as pd\n",
    "Data = pd.read_csv(\"PeopleData.csv\")"
   ]
  },
  {
   "cell_type": "markdown",
   "id": "5de3e104",
   "metadata": {},
   "source": [
    "### Getting to know our DataFrame\n",
    "\n",
    "In order to get a feel for the data that we are working with, there are a few pandas commands we can use. We can look at our enitre DataFrame or just the top/bottom 5 rows of the DataFrame using appropriate commands."
   ]
  },
  {
   "cell_type": "code",
   "execution_count": 5,
   "id": "9a83cf93",
   "metadata": {},
   "outputs": [
    {
     "data": {
      "text/html": [
       "<div>\n",
       "<style scoped>\n",
       "    .dataframe tbody tr th:only-of-type {\n",
       "        vertical-align: middle;\n",
       "    }\n",
       "\n",
       "    .dataframe tbody tr th {\n",
       "        vertical-align: top;\n",
       "    }\n",
       "\n",
       "    .dataframe thead th {\n",
       "        text-align: right;\n",
       "    }\n",
       "</style>\n",
       "<table border=\"1\" class=\"dataframe\">\n",
       "  <thead>\n",
       "    <tr style=\"text-align: right;\">\n",
       "      <th></th>\n",
       "      <th>Name</th>\n",
       "      <th>Age</th>\n",
       "      <th>Eye Colour</th>\n",
       "      <th>Height (m)</th>\n",
       "    </tr>\n",
       "  </thead>\n",
       "  <tbody>\n",
       "    <tr>\n",
       "      <td>0</td>\n",
       "      <td>Joan</td>\n",
       "      <td>54</td>\n",
       "      <td>Blue</td>\n",
       "      <td>1.54</td>\n",
       "    </tr>\n",
       "    <tr>\n",
       "      <td>1</td>\n",
       "      <td>Davide</td>\n",
       "      <td>36</td>\n",
       "      <td>Brown</td>\n",
       "      <td>1.85</td>\n",
       "    </tr>\n",
       "    <tr>\n",
       "      <td>2</td>\n",
       "      <td>Liam</td>\n",
       "      <td>29</td>\n",
       "      <td>Hazel</td>\n",
       "      <td>1.74</td>\n",
       "    </tr>\n",
       "    <tr>\n",
       "      <td>3</td>\n",
       "      <td>Emily</td>\n",
       "      <td>28</td>\n",
       "      <td>Green</td>\n",
       "      <td>1.64</td>\n",
       "    </tr>\n",
       "    <tr>\n",
       "      <td>4</td>\n",
       "      <td>Carlos</td>\n",
       "      <td>15</td>\n",
       "      <td>Green</td>\n",
       "      <td>1.77</td>\n",
       "    </tr>\n",
       "    <tr>\n",
       "      <td>5</td>\n",
       "      <td>Katie</td>\n",
       "      <td>12</td>\n",
       "      <td>Blue</td>\n",
       "      <td>1.73</td>\n",
       "    </tr>\n",
       "    <tr>\n",
       "      <td>6</td>\n",
       "      <td>Ross</td>\n",
       "      <td>26</td>\n",
       "      <td>Blue</td>\n",
       "      <td>1.79</td>\n",
       "    </tr>\n",
       "    <tr>\n",
       "      <td>7</td>\n",
       "      <td>Zack</td>\n",
       "      <td>35</td>\n",
       "      <td>Hazel</td>\n",
       "      <td>1.55</td>\n",
       "    </tr>\n",
       "    <tr>\n",
       "      <td>8</td>\n",
       "      <td>Daisy</td>\n",
       "      <td>78</td>\n",
       "      <td>Brown</td>\n",
       "      <td>1.50</td>\n",
       "    </tr>\n",
       "    <tr>\n",
       "      <td>9</td>\n",
       "      <td>Kim</td>\n",
       "      <td>7</td>\n",
       "      <td>Blue</td>\n",
       "      <td>1.10</td>\n",
       "    </tr>\n",
       "    <tr>\n",
       "      <td>10</td>\n",
       "      <td>Schmonathan</td>\n",
       "      <td>68</td>\n",
       "      <td>Brown</td>\n",
       "      <td>1.68</td>\n",
       "    </tr>\n",
       "    <tr>\n",
       "      <td>11</td>\n",
       "      <td>Jamantha</td>\n",
       "      <td>57</td>\n",
       "      <td>Green</td>\n",
       "      <td>1.43</td>\n",
       "    </tr>\n",
       "    <tr>\n",
       "      <td>12</td>\n",
       "      <td>Carlos</td>\n",
       "      <td>20</td>\n",
       "      <td>Amber</td>\n",
       "      <td>1.91</td>\n",
       "    </tr>\n",
       "  </tbody>\n",
       "</table>\n",
       "</div>"
      ],
      "text/plain": [
       "           Name  Age Eye Colour  Height (m)\n",
       "0          Joan   54       Blue        1.54\n",
       "1        Davide   36      Brown        1.85\n",
       "2          Liam   29      Hazel        1.74\n",
       "3         Emily   28      Green        1.64\n",
       "4        Carlos   15      Green        1.77\n",
       "5         Katie   12       Blue        1.73\n",
       "6          Ross   26       Blue        1.79\n",
       "7          Zack   35      Hazel        1.55\n",
       "8         Daisy   78      Brown        1.50\n",
       "9           Kim    7       Blue        1.10\n",
       "10  Schmonathan   68      Brown        1.68\n",
       "11     Jamantha   57      Green        1.43\n",
       "12       Carlos   20      Amber        1.91"
      ]
     },
     "metadata": {},
     "output_type": "display_data"
    }
   ],
   "source": [
    "# This is how we look at the entire DataFrame\n",
    "display(Data)"
   ]
  },
  {
   "cell_type": "code",
   "execution_count": 6,
   "id": "258ed7cf",
   "metadata": {},
   "outputs": [
    {
     "data": {
      "text/html": [
       "<div>\n",
       "<style scoped>\n",
       "    .dataframe tbody tr th:only-of-type {\n",
       "        vertical-align: middle;\n",
       "    }\n",
       "\n",
       "    .dataframe tbody tr th {\n",
       "        vertical-align: top;\n",
       "    }\n",
       "\n",
       "    .dataframe thead th {\n",
       "        text-align: right;\n",
       "    }\n",
       "</style>\n",
       "<table border=\"1\" class=\"dataframe\">\n",
       "  <thead>\n",
       "    <tr style=\"text-align: right;\">\n",
       "      <th></th>\n",
       "      <th>Name</th>\n",
       "      <th>Age</th>\n",
       "      <th>Eye Colour</th>\n",
       "      <th>Height (m)</th>\n",
       "    </tr>\n",
       "  </thead>\n",
       "  <tbody>\n",
       "    <tr>\n",
       "      <td>0</td>\n",
       "      <td>Joan</td>\n",
       "      <td>54</td>\n",
       "      <td>Blue</td>\n",
       "      <td>1.54</td>\n",
       "    </tr>\n",
       "    <tr>\n",
       "      <td>1</td>\n",
       "      <td>Davide</td>\n",
       "      <td>36</td>\n",
       "      <td>Brown</td>\n",
       "      <td>1.85</td>\n",
       "    </tr>\n",
       "    <tr>\n",
       "      <td>2</td>\n",
       "      <td>Liam</td>\n",
       "      <td>29</td>\n",
       "      <td>Hazel</td>\n",
       "      <td>1.74</td>\n",
       "    </tr>\n",
       "    <tr>\n",
       "      <td>3</td>\n",
       "      <td>Emily</td>\n",
       "      <td>28</td>\n",
       "      <td>Green</td>\n",
       "      <td>1.64</td>\n",
       "    </tr>\n",
       "    <tr>\n",
       "      <td>4</td>\n",
       "      <td>Carlos</td>\n",
       "      <td>15</td>\n",
       "      <td>Green</td>\n",
       "      <td>1.77</td>\n",
       "    </tr>\n",
       "  </tbody>\n",
       "</table>\n",
       "</div>"
      ],
      "text/plain": [
       "     Name  Age Eye Colour  Height (m)\n",
       "0    Joan   54       Blue        1.54\n",
       "1  Davide   36      Brown        1.85\n",
       "2    Liam   29      Hazel        1.74\n",
       "3   Emily   28      Green        1.64\n",
       "4  Carlos   15      Green        1.77"
      ]
     },
     "execution_count": 6,
     "metadata": {},
     "output_type": "execute_result"
    }
   ],
   "source": [
    "# This is how we take a look at the top 5 rows of the DataFrame.\n",
    "Data.head()"
   ]
  },
  {
   "cell_type": "code",
   "execution_count": 7,
   "id": "10e7634b",
   "metadata": {},
   "outputs": [
    {
     "data": {
      "text/html": [
       "<div>\n",
       "<style scoped>\n",
       "    .dataframe tbody tr th:only-of-type {\n",
       "        vertical-align: middle;\n",
       "    }\n",
       "\n",
       "    .dataframe tbody tr th {\n",
       "        vertical-align: top;\n",
       "    }\n",
       "\n",
       "    .dataframe thead th {\n",
       "        text-align: right;\n",
       "    }\n",
       "</style>\n",
       "<table border=\"1\" class=\"dataframe\">\n",
       "  <thead>\n",
       "    <tr style=\"text-align: right;\">\n",
       "      <th></th>\n",
       "      <th>Name</th>\n",
       "      <th>Age</th>\n",
       "    </tr>\n",
       "  </thead>\n",
       "  <tbody>\n",
       "    <tr>\n",
       "      <td>0</td>\n",
       "      <td>Joan</td>\n",
       "      <td>54</td>\n",
       "    </tr>\n",
       "    <tr>\n",
       "      <td>1</td>\n",
       "      <td>Davide</td>\n",
       "      <td>36</td>\n",
       "    </tr>\n",
       "    <tr>\n",
       "      <td>2</td>\n",
       "      <td>Liam</td>\n",
       "      <td>29</td>\n",
       "    </tr>\n",
       "    <tr>\n",
       "      <td>3</td>\n",
       "      <td>Emily</td>\n",
       "      <td>28</td>\n",
       "    </tr>\n",
       "    <tr>\n",
       "      <td>4</td>\n",
       "      <td>Carlos</td>\n",
       "      <td>15</td>\n",
       "    </tr>\n",
       "  </tbody>\n",
       "</table>\n",
       "</div>"
      ],
      "text/plain": [
       "     Name  Age\n",
       "0    Joan   54\n",
       "1  Davide   36\n",
       "2    Liam   29\n",
       "3   Emily   28\n",
       "4  Carlos   15"
      ]
     },
     "execution_count": 7,
     "metadata": {},
     "output_type": "execute_result"
    }
   ],
   "source": [
    "# This is how we take a look at only select columns from the top 5 rows of the DataFrame.\n",
    "Data[[\"Name\", \"Age\"]].head()"
   ]
  },
  {
   "cell_type": "code",
   "execution_count": 8,
   "id": "e0e96cd3",
   "metadata": {},
   "outputs": [
    {
     "data": {
      "text/html": [
       "<div>\n",
       "<style scoped>\n",
       "    .dataframe tbody tr th:only-of-type {\n",
       "        vertical-align: middle;\n",
       "    }\n",
       "\n",
       "    .dataframe tbody tr th {\n",
       "        vertical-align: top;\n",
       "    }\n",
       "\n",
       "    .dataframe thead th {\n",
       "        text-align: right;\n",
       "    }\n",
       "</style>\n",
       "<table border=\"1\" class=\"dataframe\">\n",
       "  <thead>\n",
       "    <tr style=\"text-align: right;\">\n",
       "      <th></th>\n",
       "      <th>Name</th>\n",
       "      <th>Age</th>\n",
       "      <th>Eye Colour</th>\n",
       "      <th>Height (m)</th>\n",
       "    </tr>\n",
       "  </thead>\n",
       "  <tbody>\n",
       "    <tr>\n",
       "      <td>8</td>\n",
       "      <td>Daisy</td>\n",
       "      <td>78</td>\n",
       "      <td>Brown</td>\n",
       "      <td>1.50</td>\n",
       "    </tr>\n",
       "    <tr>\n",
       "      <td>9</td>\n",
       "      <td>Kim</td>\n",
       "      <td>7</td>\n",
       "      <td>Blue</td>\n",
       "      <td>1.10</td>\n",
       "    </tr>\n",
       "    <tr>\n",
       "      <td>10</td>\n",
       "      <td>Schmonathan</td>\n",
       "      <td>68</td>\n",
       "      <td>Brown</td>\n",
       "      <td>1.68</td>\n",
       "    </tr>\n",
       "    <tr>\n",
       "      <td>11</td>\n",
       "      <td>Jamantha</td>\n",
       "      <td>57</td>\n",
       "      <td>Green</td>\n",
       "      <td>1.43</td>\n",
       "    </tr>\n",
       "    <tr>\n",
       "      <td>12</td>\n",
       "      <td>Carlos</td>\n",
       "      <td>20</td>\n",
       "      <td>Amber</td>\n",
       "      <td>1.91</td>\n",
       "    </tr>\n",
       "  </tbody>\n",
       "</table>\n",
       "</div>"
      ],
      "text/plain": [
       "           Name  Age Eye Colour  Height (m)\n",
       "8         Daisy   78      Brown        1.50\n",
       "9           Kim    7       Blue        1.10\n",
       "10  Schmonathan   68      Brown        1.68\n",
       "11     Jamantha   57      Green        1.43\n",
       "12       Carlos   20      Amber        1.91"
      ]
     },
     "execution_count": 8,
     "metadata": {},
     "output_type": "execute_result"
    }
   ],
   "source": [
    "# This is how we take a look at the bottom 5 rows of the DataFrame.\n",
    "Data.tail()"
   ]
  },
  {
   "cell_type": "code",
   "execution_count": 9,
   "id": "e86527df",
   "metadata": {},
   "outputs": [
    {
     "data": {
      "text/html": [
       "<div>\n",
       "<style scoped>\n",
       "    .dataframe tbody tr th:only-of-type {\n",
       "        vertical-align: middle;\n",
       "    }\n",
       "\n",
       "    .dataframe tbody tr th {\n",
       "        vertical-align: top;\n",
       "    }\n",
       "\n",
       "    .dataframe thead th {\n",
       "        text-align: right;\n",
       "    }\n",
       "</style>\n",
       "<table border=\"1\" class=\"dataframe\">\n",
       "  <thead>\n",
       "    <tr style=\"text-align: right;\">\n",
       "      <th></th>\n",
       "      <th>Name</th>\n",
       "      <th>Age</th>\n",
       "    </tr>\n",
       "  </thead>\n",
       "  <tbody>\n",
       "    <tr>\n",
       "      <td>8</td>\n",
       "      <td>Daisy</td>\n",
       "      <td>78</td>\n",
       "    </tr>\n",
       "    <tr>\n",
       "      <td>9</td>\n",
       "      <td>Kim</td>\n",
       "      <td>7</td>\n",
       "    </tr>\n",
       "    <tr>\n",
       "      <td>10</td>\n",
       "      <td>Schmonathan</td>\n",
       "      <td>68</td>\n",
       "    </tr>\n",
       "    <tr>\n",
       "      <td>11</td>\n",
       "      <td>Jamantha</td>\n",
       "      <td>57</td>\n",
       "    </tr>\n",
       "    <tr>\n",
       "      <td>12</td>\n",
       "      <td>Carlos</td>\n",
       "      <td>20</td>\n",
       "    </tr>\n",
       "  </tbody>\n",
       "</table>\n",
       "</div>"
      ],
      "text/plain": [
       "           Name  Age\n",
       "8         Daisy   78\n",
       "9           Kim    7\n",
       "10  Schmonathan   68\n",
       "11     Jamantha   57\n",
       "12       Carlos   20"
      ]
     },
     "execution_count": 9,
     "metadata": {},
     "output_type": "execute_result"
    }
   ],
   "source": [
    "# This is how we take a look at only select columns from the bottom 5 rows of the DataFrame.\n",
    "Data[[\"Name\", \"Age\"]].tail()"
   ]
  },
  {
   "cell_type": "markdown",
   "id": "6d3716ae",
   "metadata": {},
   "source": [
    "We are also able to gauge properties of the DataFrame such as what the each column represents, the types of data that it contains, the shape of the DataFrame and information about the indexing:\n",
    "\n",
    "1. An example of how to find out what information is contained in each column:"
   ]
  },
  {
   "cell_type": "code",
   "execution_count": 10,
   "id": "21f5c0b2",
   "metadata": {},
   "outputs": [
    {
     "name": "stdout",
     "output_type": "stream",
     "text": [
      "Index(['Name', 'Age', 'Eye Colour', 'Height (m)'], dtype='object')\n"
     ]
    }
   ],
   "source": [
    "print(Data.columns)"
   ]
  },
  {
   "cell_type": "markdown",
   "id": "0ac0135c",
   "metadata": {},
   "source": [
    "2. An example of how to find out what type of data is stored in the DataFrame:"
   ]
  },
  {
   "cell_type": "code",
   "execution_count": 11,
   "id": "602391f0",
   "metadata": {},
   "outputs": [
    {
     "name": "stdout",
     "output_type": "stream",
     "text": [
      "Name           object\n",
      "Age             int64\n",
      "Eye Colour     object\n",
      "Height (m)    float64\n",
      "dtype: object\n"
     ]
    }
   ],
   "source": [
    "print(Data.dtypes)"
   ]
  },
  {
   "cell_type": "markdown",
   "id": "a1d85841",
   "metadata": {},
   "source": [
    "3. An example of how to find out what the shape of the DataFrame is:"
   ]
  },
  {
   "cell_type": "code",
   "execution_count": 12,
   "id": "943981d9",
   "metadata": {},
   "outputs": [
    {
     "name": "stdout",
     "output_type": "stream",
     "text": [
      "(13, 4)\n"
     ]
    }
   ],
   "source": [
    "print(Data.shape)"
   ]
  },
  {
   "cell_type": "markdown",
   "id": "1185cf49",
   "metadata": {},
   "source": [
    "4. An example of how to find out the indexing of the DataFrame:"
   ]
  },
  {
   "cell_type": "code",
   "execution_count": 13,
   "id": "fb85490b",
   "metadata": {},
   "outputs": [
    {
     "name": "stdout",
     "output_type": "stream",
     "text": [
      "RangeIndex(start=0, stop=13, step=1)\n"
     ]
    }
   ],
   "source": [
    "print(Data.index)"
   ]
  },
  {
   "cell_type": "markdown",
   "id": "25c01b86",
   "metadata": {},
   "source": [
    "5. To look at specific entries in a DataFrame we can use the \".loc\" and \".iloc\" functions. \n",
    "\n",
    "When using *loc* we are specifying which entry in the DataFrame we want using the index *labels*, whereas *iloc* uses the index *positions*. If our index labels are just our index positions, there will be no difference when using loc or iloc bar the fact that loc gives an inclusive range of results whereas iloc gives an exlusive range of results. \n",
    "\n",
    "Make sure this is clear to you by reviewing the difference in the outputs from the snippets of code below:"
   ]
  },
  {
   "cell_type": "code",
   "execution_count": 14,
   "id": "80a9630f",
   "metadata": {},
   "outputs": [
    {
     "name": "stdout",
     "output_type": "stream",
     "text": [
      "Name          Joan\n",
      "Age             54\n",
      "Eye Colour    Blue\n",
      "Height (m)    1.54\n",
      "Name: 0, dtype: object \n",
      " \n",
      "\n",
      "   Name  Age Eye Colour  Height (m)\n",
      "0  Joan   54       Blue        1.54 \n",
      " \n",
      "\n",
      "     Name  Age Eye Colour  Height (m)\n",
      "0    Joan   54       Blue        1.54\n",
      "1  Davide   36      Brown        1.85\n",
      "2    Liam   29      Hazel        1.74\n",
      "3   Emily   28      Green        1.64 \n",
      " \n",
      "\n",
      "Blue\n"
     ]
    }
   ],
   "source": [
    "# Using loc\n",
    "print(Data.loc[0], \"\\n \\n\")\n",
    "print(Data.loc[0:0], \"\\n \\n\")\n",
    "print(Data.loc[0:3], \"\\n \\n\")\n",
    "print(Data.loc[0][2])\n",
    "\n",
    "# If we had added an alternative index to the data frame that did not begin at zero\n",
    "# e.g. (101, 102, 103, ...) we would use these values when using loc."
   ]
  },
  {
   "cell_type": "code",
   "execution_count": 16,
   "id": "c8761634",
   "metadata": {},
   "outputs": [
    {
     "name": "stdout",
     "output_type": "stream",
     "text": [
      "Name          Joan\n",
      "Age             54\n",
      "Eye Colour    Blue\n",
      "Height (m)    1.54\n",
      "Name: 0, dtype: object \n",
      " \n",
      "\n",
      "Empty DataFrame\n",
      "Columns: [Name, Age, Eye Colour, Height (m)]\n",
      "Index: [] \n",
      " \n",
      "\n",
      "     Name  Age Eye Colour  Height (m)\n",
      "0    Joan   54       Blue        1.54\n",
      "1  Davide   36      Brown        1.85\n",
      "2    Liam   29      Hazel        1.74 \n",
      " \n",
      "\n",
      "Blue\n"
     ]
    }
   ],
   "source": [
    "# Using iloc\n",
    "print(Data.iloc[0], \"\\n \\n\")\n",
    "print(Data.iloc[0:0], \"\\n \\n\")\n",
    "print(Data.iloc[0:3], \"\\n \\n\")\n",
    "print(Data.iloc[0][2])\n",
    "\n",
    "# If we had added an alternative index to the data frame that did not begin at zero\n",
    "# e.g. (101, 102, 103, ...) we would still use the index location (e.g. 0, 1, 2)."
   ]
  },
  {
   "cell_type": "markdown",
   "id": "00286eab",
   "metadata": {},
   "source": [
    "### Filtering Data\n",
    "\n",
    "It is often the case when working with large datasets that we are only actually interested in a subset of the data. For example, using the \"Data\" DataFrame above I may only want to see the heights of the participants in this particular study. To this I can simply filter this information from the DataFrame:"
   ]
  },
  {
   "cell_type": "code",
   "execution_count": 17,
   "id": "2ad936a8",
   "metadata": {},
   "outputs": [
    {
     "name": "stdout",
     "output_type": "stream",
     "text": [
      "0     1.54\n",
      "1     1.85\n",
      "2     1.74\n",
      "3     1.64\n",
      "4     1.77\n",
      "5     1.73\n",
      "6     1.79\n",
      "7     1.55\n",
      "8     1.50\n",
      "9     1.10\n",
      "10    1.68\n",
      "11    1.43\n",
      "12    1.91\n",
      "Name: Height (m), dtype: float64\n"
     ]
    }
   ],
   "source": [
    "Heights = Data[\"Height (m)\"]\n",
    "print(Heights)"
   ]
  },
  {
   "cell_type": "markdown",
   "id": "2eacfb3f",
   "metadata": {},
   "source": [
    "In the example above I have created a new DataFrame containing just the heights that I may then use in my analysis moving forward. This saves me having to extracting the information from the larger DataFrame everytime that information is required. Either method is fine. \n",
    "\n",
    "We can see that when the \"Heights\" DataFrame has been printed out that the index is also shown. If we would like to extract a particular value from the DataFrame we can do so using the index:"
   ]
  },
  {
   "cell_type": "code",
   "execution_count": 18,
   "id": "f92c8529",
   "metadata": {},
   "outputs": [
    {
     "name": "stdout",
     "output_type": "stream",
     "text": [
      "1.79\n"
     ]
    }
   ],
   "source": [
    "selectedHeight = Heights[6]\n",
    "print(selectedHeight)"
   ]
  },
  {
   "cell_type": "markdown",
   "id": "8f2d717c",
   "metadata": {},
   "source": [
    "In the example above \"selectedHeight\" was extracted from the DataFrame \"Heights\" in the same way that we would extract information from a numpy array or list. If we wanted to select this Height from the original larger DataFrame \"Data\", we would simply use two sets of square brackets:"
   ]
  },
  {
   "cell_type": "code",
   "execution_count": 19,
   "id": "cfd9bca4",
   "metadata": {},
   "outputs": [
    {
     "name": "stdout",
     "output_type": "stream",
     "text": [
      "1.79\n"
     ]
    }
   ],
   "source": [
    "selectedHeight = Data[\"Height (m)\"][6]\n",
    "print(selectedHeight)"
   ]
  },
  {
   "cell_type": "markdown",
   "id": "49fd178d",
   "metadata": {},
   "source": [
    "In some instances it may be useful to know all of the unique values in your DataFrame. For example, perhaps from my sample of data I would like to know all of the unique eye colours of the people that were sampled:"
   ]
  },
  {
   "cell_type": "code",
   "execution_count": 31,
   "id": "30c054a2",
   "metadata": {},
   "outputs": [
    {
     "name": "stdout",
     "output_type": "stream",
     "text": [
      "['Blue' 'Brown' 'Hazel' 'Green' 'Amber']\n"
     ]
    }
   ],
   "source": [
    "UniqueEyeColours = Data[\"Eye Colour\"].unique()\n",
    "print(UniqueEyeColours)"
   ]
  },
  {
   "cell_type": "markdown",
   "id": "74bc6398",
   "metadata": {},
   "source": [
    "Or perhaps I just want to the information relating to one of the particpants in my survey. Look carefully at the structure of the line of code below used to extract the information associated with Carlos:"
   ]
  },
  {
   "cell_type": "code",
   "execution_count": 32,
   "id": "6fd627ee",
   "metadata": {},
   "outputs": [
    {
     "name": "stdout",
     "output_type": "stream",
     "text": [
      "      Name  Age Eye Colour  Height (m)\n",
      "4   Carlos   15      Green        1.77\n",
      "12  Carlos   20      Amber        1.91\n"
     ]
    }
   ],
   "source": [
    "CarlosInfo = Data[Data[\"Name\"] == 'Carlos']\n",
    "print(CarlosInfo)"
   ]
  },
  {
   "cell_type": "markdown",
   "id": "00b9c691",
   "metadata": {},
   "source": [
    "As there are two people named Carlos in my data I have been presented with two rows of data. If I want to filter the data to be even more specific I simply add a second condition in the filtering command. \n",
    "\n",
    "I am specifically interested in the data associated with the Carlos with amber eyes. I will add a second critereon to be met in the filtering using \"&\". Note that each condition is enclosed in a pair of rounded brackets. Look at the code below closely:"
   ]
  },
  {
   "cell_type": "code",
   "execution_count": 33,
   "id": "46ce83f6",
   "metadata": {},
   "outputs": [
    {
     "name": "stdout",
     "output_type": "stream",
     "text": [
      "      Name  Age Eye Colour  Height (m)\n",
      "12  Carlos   20      Amber        1.91\n"
     ]
    }
   ],
   "source": [
    "CarlosInfo = Data[(Data[\"Name\"] == 'Carlos') & (Data[\"Eye Colour\"] == 'Amber')]\n",
    "print(CarlosInfo)"
   ]
  },
  {
   "cell_type": "markdown",
   "id": "ca8caeac",
   "metadata": {},
   "source": [
    "If I want to get data for people called Carlos or Katie, I can simply modify the code above by adding an \"or\" statement using \"|\":"
   ]
  },
  {
   "cell_type": "code",
   "execution_count": 34,
   "id": "b125911a",
   "metadata": {},
   "outputs": [
    {
     "name": "stdout",
     "output_type": "stream",
     "text": [
      "      Name  Age Eye Colour  Height (m)\n",
      "4   Carlos   15      Green        1.77\n",
      "5    Katie   12       Blue        1.73\n",
      "12  Carlos   20      Amber        1.91\n"
     ]
    }
   ],
   "source": [
    "NewData = Data[(Data[\"Name\"] == 'Carlos') | (Data[\"Name\"] == 'Katie')]\n",
    "print(NewData)"
   ]
  },
  {
   "cell_type": "markdown",
   "id": "825050d7",
   "metadata": {},
   "source": [
    "If I want to filter my data to only show those who are taller than 1.8m I can do so by applying a condition:"
   ]
  },
  {
   "cell_type": "code",
   "execution_count": 35,
   "id": "acdfabe0",
   "metadata": {},
   "outputs": [
    {
     "name": "stdout",
     "output_type": "stream",
     "text": [
      "      Name  Age Eye Colour  Height (m)\n",
      "1   Davide   36      Brown        1.85\n",
      "12  Carlos   20      Amber        1.91\n"
     ]
    }
   ],
   "source": [
    "TallPeople = Data[(Data[\"Height (m)\"] > 1.8)]\n",
    "print(TallPeople)"
   ]
  },
  {
   "cell_type": "markdown",
   "id": "2d4c1d74",
   "metadata": {},
   "source": [
    "### Replacing Data\n",
    "\n",
    "It might be the case that there is an incorrect data entry in a DataFrame that needs correcting, or perhaps a series of terms all need replacing. We can easily replace terms in a DataFrame using \".replace()\". For example, lets say that the age recorded for Davide was incorrect and needed replacing, we can do so easily. Here I am going to replace the number 36 with 38 in the age column."
   ]
  },
  {
   "cell_type": "code",
   "execution_count": 36,
   "id": "13af9dab",
   "metadata": {},
   "outputs": [
    {
     "data": {
      "text/html": [
       "<div>\n",
       "<style scoped>\n",
       "    .dataframe tbody tr th:only-of-type {\n",
       "        vertical-align: middle;\n",
       "    }\n",
       "\n",
       "    .dataframe tbody tr th {\n",
       "        vertical-align: top;\n",
       "    }\n",
       "\n",
       "    .dataframe thead th {\n",
       "        text-align: right;\n",
       "    }\n",
       "</style>\n",
       "<table border=\"1\" class=\"dataframe\">\n",
       "  <thead>\n",
       "    <tr style=\"text-align: right;\">\n",
       "      <th></th>\n",
       "      <th>Name</th>\n",
       "      <th>Age</th>\n",
       "      <th>Eye Colour</th>\n",
       "      <th>Height (m)</th>\n",
       "    </tr>\n",
       "  </thead>\n",
       "  <tbody>\n",
       "    <tr>\n",
       "      <td>0</td>\n",
       "      <td>Joan</td>\n",
       "      <td>54</td>\n",
       "      <td>Blue</td>\n",
       "      <td>1.54</td>\n",
       "    </tr>\n",
       "    <tr>\n",
       "      <td>1</td>\n",
       "      <td>Davide</td>\n",
       "      <td>38</td>\n",
       "      <td>Brown</td>\n",
       "      <td>1.85</td>\n",
       "    </tr>\n",
       "    <tr>\n",
       "      <td>2</td>\n",
       "      <td>Liam</td>\n",
       "      <td>29</td>\n",
       "      <td>Hazel</td>\n",
       "      <td>1.74</td>\n",
       "    </tr>\n",
       "    <tr>\n",
       "      <td>3</td>\n",
       "      <td>Emily</td>\n",
       "      <td>28</td>\n",
       "      <td>Green</td>\n",
       "      <td>1.64</td>\n",
       "    </tr>\n",
       "    <tr>\n",
       "      <td>4</td>\n",
       "      <td>Carlos</td>\n",
       "      <td>15</td>\n",
       "      <td>Green</td>\n",
       "      <td>1.77</td>\n",
       "    </tr>\n",
       "  </tbody>\n",
       "</table>\n",
       "</div>"
      ],
      "text/plain": [
       "     Name  Age Eye Colour  Height (m)\n",
       "0    Joan   54       Blue        1.54\n",
       "1  Davide   38      Brown        1.85\n",
       "2    Liam   29      Hazel        1.74\n",
       "3   Emily   28      Green        1.64\n",
       "4  Carlos   15      Green        1.77"
      ]
     },
     "execution_count": 36,
     "metadata": {},
     "output_type": "execute_result"
    }
   ],
   "source": [
    "Data['Age'] = Data[\"Age\"].replace([36],38)\n",
    "Data.head()"
   ]
  },
  {
   "cell_type": "markdown",
   "id": "586c9309",
   "metadata": {},
   "source": [
    "Replacing all values equal to something thing can be useful, but may also result in data being changed that should not be changed. For example, when correcting the age of Davide above, the method would actually have re-aged anybody who is 36 to 38. \n",
    "\n",
    "If we want to change an individual value we can also do this fairly easily too. Take a look at the example below where I am going to change the eye colour associated with Liam from Hazel to Amber:"
   ]
  },
  {
   "cell_type": "code",
   "execution_count": 37,
   "id": "8a6c2612",
   "metadata": {},
   "outputs": [
    {
     "data": {
      "text/html": [
       "<div>\n",
       "<style scoped>\n",
       "    .dataframe tbody tr th:only-of-type {\n",
       "        vertical-align: middle;\n",
       "    }\n",
       "\n",
       "    .dataframe tbody tr th {\n",
       "        vertical-align: top;\n",
       "    }\n",
       "\n",
       "    .dataframe thead th {\n",
       "        text-align: right;\n",
       "    }\n",
       "</style>\n",
       "<table border=\"1\" class=\"dataframe\">\n",
       "  <thead>\n",
       "    <tr style=\"text-align: right;\">\n",
       "      <th></th>\n",
       "      <th>Name</th>\n",
       "      <th>Age</th>\n",
       "      <th>Eye Colour</th>\n",
       "      <th>Height (m)</th>\n",
       "    </tr>\n",
       "  </thead>\n",
       "  <tbody>\n",
       "    <tr>\n",
       "      <td>0</td>\n",
       "      <td>Joan</td>\n",
       "      <td>54</td>\n",
       "      <td>Blue</td>\n",
       "      <td>1.54</td>\n",
       "    </tr>\n",
       "    <tr>\n",
       "      <td>1</td>\n",
       "      <td>Davide</td>\n",
       "      <td>38</td>\n",
       "      <td>Brown</td>\n",
       "      <td>1.85</td>\n",
       "    </tr>\n",
       "    <tr>\n",
       "      <td>2</td>\n",
       "      <td>Liam</td>\n",
       "      <td>29</td>\n",
       "      <td>Amber</td>\n",
       "      <td>1.74</td>\n",
       "    </tr>\n",
       "    <tr>\n",
       "      <td>3</td>\n",
       "      <td>Emily</td>\n",
       "      <td>28</td>\n",
       "      <td>Green</td>\n",
       "      <td>1.64</td>\n",
       "    </tr>\n",
       "    <tr>\n",
       "      <td>4</td>\n",
       "      <td>Carlos</td>\n",
       "      <td>15</td>\n",
       "      <td>Green</td>\n",
       "      <td>1.77</td>\n",
       "    </tr>\n",
       "  </tbody>\n",
       "</table>\n",
       "</div>"
      ],
      "text/plain": [
       "     Name  Age Eye Colour  Height (m)\n",
       "0    Joan   54       Blue        1.54\n",
       "1  Davide   38      Brown        1.85\n",
       "2    Liam   29      Amber        1.74\n",
       "3   Emily   28      Green        1.64\n",
       "4  Carlos   15      Green        1.77"
      ]
     },
     "execution_count": 37,
     "metadata": {},
     "output_type": "execute_result"
    }
   ],
   "source": [
    "Data.iloc[2,2] = \"Amber\"\n",
    "Data.head()"
   ]
  },
  {
   "cell_type": "markdown",
   "id": "b71267bf",
   "metadata": {},
   "source": [
    "### Looping\n",
    "\n",
    "In addition to filtering data from a DataFrame, it is also possible to perform calculations/analysis by looping through it (e.g. using for and while loops). \n",
    "\n",
    "To show an example of how we can loop through a DataFrame we are going to use a new set of data called \"all_matches\". This dataset contains the results of all international football matches from 1872 to 2023. We are going to loop through this data to determine which country is the most successful of all time: \n",
    "\n",
    "1. The first thing we should do is take a look at how the data in the DataFrame is formatted. To do this, we will use \".head()\" to view the first five rows of the DataFrame."
   ]
  },
  {
   "cell_type": "code",
   "execution_count": 38,
   "id": "2dd60bbc",
   "metadata": {},
   "outputs": [
    {
     "data": {
      "text/html": [
       "<div>\n",
       "<style scoped>\n",
       "    .dataframe tbody tr th:only-of-type {\n",
       "        vertical-align: middle;\n",
       "    }\n",
       "\n",
       "    .dataframe tbody tr th {\n",
       "        vertical-align: top;\n",
       "    }\n",
       "\n",
       "    .dataframe thead th {\n",
       "        text-align: right;\n",
       "    }\n",
       "</style>\n",
       "<table border=\"1\" class=\"dataframe\">\n",
       "  <thead>\n",
       "    <tr style=\"text-align: right;\">\n",
       "      <th></th>\n",
       "      <th>date</th>\n",
       "      <th>home_team</th>\n",
       "      <th>away_team</th>\n",
       "      <th>home_score</th>\n",
       "      <th>away_score</th>\n",
       "      <th>tournament</th>\n",
       "      <th>country</th>\n",
       "      <th>neutral</th>\n",
       "    </tr>\n",
       "  </thead>\n",
       "  <tbody>\n",
       "    <tr>\n",
       "      <td>0</td>\n",
       "      <td>1872-11-30</td>\n",
       "      <td>Scotland</td>\n",
       "      <td>England</td>\n",
       "      <td>0</td>\n",
       "      <td>0</td>\n",
       "      <td>Friendly</td>\n",
       "      <td>Scotland</td>\n",
       "      <td>False</td>\n",
       "    </tr>\n",
       "    <tr>\n",
       "      <td>1</td>\n",
       "      <td>1873-03-08</td>\n",
       "      <td>England</td>\n",
       "      <td>Scotland</td>\n",
       "      <td>4</td>\n",
       "      <td>2</td>\n",
       "      <td>Friendly</td>\n",
       "      <td>England</td>\n",
       "      <td>False</td>\n",
       "    </tr>\n",
       "    <tr>\n",
       "      <td>2</td>\n",
       "      <td>1874-03-07</td>\n",
       "      <td>Scotland</td>\n",
       "      <td>England</td>\n",
       "      <td>2</td>\n",
       "      <td>1</td>\n",
       "      <td>Friendly</td>\n",
       "      <td>Scotland</td>\n",
       "      <td>False</td>\n",
       "    </tr>\n",
       "    <tr>\n",
       "      <td>3</td>\n",
       "      <td>1875-03-06</td>\n",
       "      <td>England</td>\n",
       "      <td>Scotland</td>\n",
       "      <td>2</td>\n",
       "      <td>2</td>\n",
       "      <td>Friendly</td>\n",
       "      <td>England</td>\n",
       "      <td>False</td>\n",
       "    </tr>\n",
       "    <tr>\n",
       "      <td>4</td>\n",
       "      <td>1876-03-04</td>\n",
       "      <td>Scotland</td>\n",
       "      <td>England</td>\n",
       "      <td>3</td>\n",
       "      <td>0</td>\n",
       "      <td>Friendly</td>\n",
       "      <td>Scotland</td>\n",
       "      <td>False</td>\n",
       "    </tr>\n",
       "  </tbody>\n",
       "</table>\n",
       "</div>"
      ],
      "text/plain": [
       "         date home_team away_team  home_score  away_score tournament  \\\n",
       "0  1872-11-30  Scotland   England           0           0   Friendly   \n",
       "1  1873-03-08   England  Scotland           4           2   Friendly   \n",
       "2  1874-03-07  Scotland   England           2           1   Friendly   \n",
       "3  1875-03-06   England  Scotland           2           2   Friendly   \n",
       "4  1876-03-04  Scotland   England           3           0   Friendly   \n",
       "\n",
       "    country  neutral  \n",
       "0  Scotland    False  \n",
       "1   England    False  \n",
       "2  Scotland    False  \n",
       "3   England    False  \n",
       "4  Scotland    False  "
      ]
     },
     "execution_count": 38,
     "metadata": {},
     "output_type": "execute_result"
    }
   ],
   "source": [
    "import matplotlib.pyplot as plt\n",
    "Football = pd.read_csv(\"all_matches.csv\")\n",
    "\n",
    "Football.head()"
   ]
  },
  {
   "cell_type": "markdown",
   "id": "37b3ca6a",
   "metadata": {},
   "source": [
    "2. Next, in order to determine which country is the most successful we need to know how many different countries are actually in this dataset. When doing this I will assume that every team has played at home and away. To do this, we can use \".unique()\" as above:"
   ]
  },
  {
   "cell_type": "code",
   "execution_count": 39,
   "id": "84777365",
   "metadata": {},
   "outputs": [
    {
     "name": "stdout",
     "output_type": "stream",
     "text": [
      "['Scotland' 'England' 'Wales' 'Ireland' 'Uruguay' 'Austria' 'Hungary'\n",
      " 'Argentina' 'Belgium' 'France' 'Netherlands' 'British Guiana' 'Bohemia'\n",
      " 'Switzerland' 'Germany' 'Sweden' 'Denmark' 'Italy' 'South Africa' 'Chile'\n",
      " 'Norway' 'Finland' 'Luxembourg' 'Russia' 'Philippines' 'China' 'Suriname'\n",
      " 'Brazil' 'Japan' 'Paraguay' 'Spain' 'Czechoslovakia' 'Egypt'\n",
      " 'Northern Ireland' 'Estonia' 'Costa Rica' 'Guatemala' 'Poland'\n",
      " 'Yugoslavia' 'New Zealand' 'Romania' 'Latvia' 'Portugal' 'Australia'\n",
      " 'Lithuania' 'Trinidad and Tobago' 'Turkey' 'Mexico' 'Aruba'\n",
      " 'United States' 'Soviet Union' 'Haiti' 'Bulgaria' 'Canada' 'Jamaica'\n",
      " 'Kenya' 'Azerbaijan' 'Georgia' 'Peru' 'Honduras' 'British Honduras'\n",
      " 'Dutch East Indies' 'El Salvador' 'Uganda' 'Barbados' 'Greece' 'Cuba'\n",
      " 'Curaçao' 'Faroe Islands' 'Mauritius' 'Dominica' 'Reunion'\n",
      " 'New Caledonia' 'Palestine' 'Grenada' 'Guadeloupe' 'French Guiana'\n",
      " 'Martinique' 'St Vincent & Grenadines' 'Panama' 'Colombia' 'Venezuela'\n",
      " 'Bolivia' 'Saint Kitts and Nevis' 'Ecuador' 'Slovakia'\n",
      " 'Bohemia and Moravia' 'Croatia' 'Iran' 'Afghanistan' 'Korea' 'Lebanon'\n",
      " 'Syria' 'Nicaragua' 'Iceland' 'Albania' 'Southern Rhodesia' 'Hong Kong'\n",
      " 'Tanganyika' 'French Somaliland' 'Northern Rhodesia' 'Madagascar'\n",
      " 'South Vietnam' 'Macao' 'Singapore' 'India' 'South Korea' 'Thailand'\n",
      " 'Belgian Congo' 'Ethiopia' 'Puerto Rico' 'Israel' 'Sierra Leone'\n",
      " 'Zanzibar' 'Antigua and Barbuda' 'Saint Kitts' 'Netherlands Antilles'\n",
      " 'Gold Coast' 'West Germany' 'Indonesia' 'East Germany' 'Fiji' 'Nigeria'\n",
      " 'Montserrat' 'Ceylon' 'Pakistan' 'Tahiti' 'Saar' 'Gambia'\n",
      " 'Portuguese Guinea' 'Jordan' 'Libya' 'New Hebrides' 'Burma' 'Taiwan'\n",
      " 'French Togoland' 'Ivory Coast' 'French Congo' 'Cameroon' 'Malaya'\n",
      " 'Cambodia' 'Sudan' 'North Korea' 'Ubangi-Shari' 'Malta' 'Tunisia' 'Iraq'\n",
      " 'Morocco' 'Saudi Arabia' 'Ghana' 'Nyasaland' 'Algeria'\n",
      " 'United Arab Republic' 'Dahomey' 'North Vietnam' 'Togo' 'Congo'\n",
      " 'Mali Federation' 'Upper Volta' 'Cyprus' 'Saint Lucia' 'Kuwait' 'Senegal'\n",
      " 'Liberia' 'Central African Republic' 'Chad' 'Guinea' 'Mali' 'Gabon'\n",
      " 'Northern Cyprus' 'Congo-Leopoldville' 'Solomon Islands' 'Malaysia'\n",
      " 'Niger' 'DR Congo' 'Bermuda' 'Tanzania' 'Zambia' 'Bahrain' 'Malawi'\n",
      " 'Papua New Guinea' 'Dominican Republic' 'Guyana' 'Mauritania' 'Rhodesia'\n",
      " 'Swaziland' 'Laos' 'Qatar' 'Bonaire' 'Khmer Republic' 'Lesotho' 'Bahamas'\n",
      " 'South Yemen' 'Somalia' 'Zaire' 'United Arab Emirates' 'Sri Lanka'\n",
      " 'Nepal' 'Bangladesh' 'Burundi' 'Guinea-Bissau' 'Mozambique' 'Guam'\n",
      " 'Angola' 'Oman' 'São Tomé and Príncipe' 'Botswana' 'Benin' 'Cape Verde'\n",
      " 'Seychelles' 'Rwanda' 'Comoros' 'Tuvalu' 'Wallis and Futuna' 'Tonga'\n",
      " 'Kiribati' 'Brunei' 'Zimbabwe' 'Liechtenstein' 'Vanuatu' 'Greenland'\n",
      " 'Western Samoa' 'Eastern Samoa' 'Belize' 'Djibouti' 'Maldives'\n",
      " 'Burkina Faso' 'North Yemen' 'Anguilla' 'Equatorial Guinea'\n",
      " 'Cayman Islands' 'Sint Maarten' 'Namibia' 'Saint Martin'\n",
      " 'British Virgin Islands' 'San Marino' 'Slovenia' 'Moldova'\n",
      " 'Comm of Indep States' 'Ukraine' 'Kazakhstan' 'Tajikistan' 'Uzbekistan'\n",
      " 'Eritrea' 'Turkmenistan' 'Kyrgyzstan' 'Armenia' 'Belarus' 'Vietnam'\n",
      " 'Yemen' 'Myanmar' 'Macedonia' 'Czechia' 'Gibraltar' 'Cook Islands'\n",
      " 'Bosnia and Herzegovina' 'Andorra' 'US Virgin Islands' 'Palau'\n",
      " 'Northern Mariana Islands' 'Samoa' 'Turks and Caicos Islands'\n",
      " 'FS Micronesia' 'Mayotte' 'Bhutan' 'Kosovo' 'Serbia and Montenegro'\n",
      " 'Mongolia' 'Serbia' 'Montenegro' 'Kurdistan' 'South Sudan'\n",
      " 'Saint Barthelemy' 'East Timor' 'Eswatini' 'North Macedonia']\n"
     ]
    }
   ],
   "source": [
    "countries = Football[\"home_team\"].unique()\n",
    "print(countries)"
   ]
  },
  {
   "cell_type": "markdown",
   "id": "2b933f2f",
   "metadata": {},
   "source": [
    "3. Now we have a list off all the countries we need to extract data for, we can loop through the entire data set and determine how many matches each country has won. This is made a little more complicated as looking at the data we need to consider both the home and away games:"
   ]
  },
  {
   "cell_type": "code",
   "execution_count": 40,
   "id": "67f184dd",
   "metadata": {
    "scrolled": false
   },
   "outputs": [],
   "source": [
    "# First we create two lists - one for the country name and one for their percentage of wins.\n",
    "teamNames = []\n",
    "percentageWins = []\n",
    "\n",
    "for country in countries:\n",
    "    \n",
    "    # First we will filter only the data associated with our current country from the entire dataset.\n",
    "    # This first line of code narrows down the data to only the matches where they were either playing home or away.\n",
    "    currentCountry = Football[(Football['home_team']==country) | (Football['away_team']==country)]\n",
    "    \n",
    "    # This line of code simply filters from the currentCountry DataFrame to determine how many home wins they had.\n",
    "    HomeWins = currentCountry[(currentCountry['home_team'] == country) & (currentCountry['home_score'] > currentCountry['away_score'])]\n",
    "    # This line of code simply filters from the currentCountry DataFrame to determine how many away wins they had.\n",
    "    AwayWins = currentCountry[(currentCountry['away_team'] == country) & (currentCountry['away_score'] > currentCountry['home_score'])]\n",
    "    \n",
    "    # Now we calculate the number of wins as a percentage and append our data to our two lists.\n",
    "    teamNames.append(country)\n",
    "    percentageWins.append( ((HomeWins.shape[0] + AwayWins.shape[0]) / currentCountry.shape[0]) * 100 ) \n",
    "    # In the line above the number of home wins, away wins and games played is determined using .shape[0]"
   ]
  },
  {
   "cell_type": "markdown",
   "id": "5940aced",
   "metadata": {},
   "source": [
    "4. I will now create a new DataFrame containing the countries and their win percentage from the lists I made in the last step:"
   ]
  },
  {
   "cell_type": "code",
   "execution_count": 41,
   "id": "a3bdb9c8",
   "metadata": {},
   "outputs": [
    {
     "data": {
      "text/html": [
       "<div>\n",
       "<style scoped>\n",
       "    .dataframe tbody tr th:only-of-type {\n",
       "        vertical-align: middle;\n",
       "    }\n",
       "\n",
       "    .dataframe tbody tr th {\n",
       "        vertical-align: top;\n",
       "    }\n",
       "\n",
       "    .dataframe thead th {\n",
       "        text-align: right;\n",
       "    }\n",
       "</style>\n",
       "<table border=\"1\" class=\"dataframe\">\n",
       "  <thead>\n",
       "    <tr style=\"text-align: right;\">\n",
       "      <th></th>\n",
       "      <th>Country Name</th>\n",
       "      <th>Percentage Wins</th>\n",
       "    </tr>\n",
       "  </thead>\n",
       "  <tbody>\n",
       "    <tr>\n",
       "      <td>0</td>\n",
       "      <td>Scotland</td>\n",
       "      <td>47.738095</td>\n",
       "    </tr>\n",
       "    <tr>\n",
       "      <td>1</td>\n",
       "      <td>England</td>\n",
       "      <td>58.451957</td>\n",
       "    </tr>\n",
       "    <tr>\n",
       "      <td>2</td>\n",
       "      <td>Wales</td>\n",
       "      <td>31.926864</td>\n",
       "    </tr>\n",
       "    <tr>\n",
       "      <td>3</td>\n",
       "      <td>Ireland</td>\n",
       "      <td>35.104895</td>\n",
       "    </tr>\n",
       "    <tr>\n",
       "      <td>4</td>\n",
       "      <td>Uruguay</td>\n",
       "      <td>44.308943</td>\n",
       "    </tr>\n",
       "  </tbody>\n",
       "</table>\n",
       "</div>"
      ],
      "text/plain": [
       "  Country Name  Percentage Wins\n",
       "0     Scotland        47.738095\n",
       "1      England        58.451957\n",
       "2        Wales        31.926864\n",
       "3      Ireland        35.104895\n",
       "4      Uruguay        44.308943"
      ]
     },
     "execution_count": 41,
     "metadata": {},
     "output_type": "execute_result"
    }
   ],
   "source": [
    "# Building my new DataFrame\n",
    "winData = pd.DataFrame({'Country Name': teamNames, 'Percentage Wins': percentageWins})\n",
    "\n",
    "# Printing the top 5 rows of my DataFrame\n",
    "winData.head()"
   ]
  },
  {
   "cell_type": "markdown",
   "id": "97bfa97c",
   "metadata": {},
   "source": [
    "5. I can sort our new DataFrame by the column \"Percentage of Wins\" to determine the country that is the most successful:"
   ]
  },
  {
   "cell_type": "code",
   "execution_count": 42,
   "id": "84cb5b10",
   "metadata": {},
   "outputs": [
    {
     "data": {
      "text/html": [
       "<div>\n",
       "<style scoped>\n",
       "    .dataframe tbody tr th:only-of-type {\n",
       "        vertical-align: middle;\n",
       "    }\n",
       "\n",
       "    .dataframe tbody tr th {\n",
       "        vertical-align: top;\n",
       "    }\n",
       "\n",
       "    .dataframe thead th {\n",
       "        text-align: right;\n",
       "    }\n",
       "</style>\n",
       "<table border=\"1\" class=\"dataframe\">\n",
       "  <thead>\n",
       "    <tr style=\"text-align: right;\">\n",
       "      <th></th>\n",
       "      <th>Country Name</th>\n",
       "      <th>Percentage Wins</th>\n",
       "    </tr>\n",
       "  </thead>\n",
       "  <tbody>\n",
       "    <tr>\n",
       "      <td>143</td>\n",
       "      <td>Ubangi-Shari</td>\n",
       "      <td>100.000000</td>\n",
       "    </tr>\n",
       "    <tr>\n",
       "      <td>137</td>\n",
       "      <td>French Congo</td>\n",
       "      <td>100.000000</td>\n",
       "    </tr>\n",
       "    <tr>\n",
       "      <td>90</td>\n",
       "      <td>Korea</td>\n",
       "      <td>100.000000</td>\n",
       "    </tr>\n",
       "    <tr>\n",
       "      <td>157</td>\n",
       "      <td>Mali Federation</td>\n",
       "      <td>75.000000</td>\n",
       "    </tr>\n",
       "    <tr>\n",
       "      <td>115</td>\n",
       "      <td>Saint Kitts</td>\n",
       "      <td>72.727273</td>\n",
       "    </tr>\n",
       "  </tbody>\n",
       "</table>\n",
       "</div>"
      ],
      "text/plain": [
       "        Country Name  Percentage Wins\n",
       "143     Ubangi-Shari       100.000000\n",
       "137     French Congo       100.000000\n",
       "90             Korea       100.000000\n",
       "157  Mali Federation        75.000000\n",
       "115      Saint Kitts        72.727273"
      ]
     },
     "execution_count": 42,
     "metadata": {},
     "output_type": "execute_result"
    }
   ],
   "source": [
    "# Sorting the values by most sucessful\n",
    "sortedWinData = winData.sort_values('Percentage Wins', ascending=False)\n",
    "sortedWinData.head()"
   ]
  },
  {
   "cell_type": "markdown",
   "id": "c1f30443",
   "metadata": {},
   "source": [
    "### Plotting Data from a DataFrame\n",
    "\n",
    "6. If I want to visualise this data in a better way that a simple table, we can also extract the data from a DataFrame for plotting. The process is exactly the same as if we were plotting data from a numpy array. For example the bar chart below shows the 20 most successful countries at football:"
   ]
  },
  {
   "cell_type": "code",
   "execution_count": 43,
   "id": "127fd41f",
   "metadata": {},
   "outputs": [
    {
     "data": {
      "image/png": "[encoded data removed]",
      "text/plain": [
       "<Figure size 576x504 with 1 Axes>"
      ]
     },
     "metadata": {
      "needs_background": "light"
     },
     "output_type": "display_data"
    }
   ],
   "source": [
    "import matplotlib.pyplot as plt\n",
    "\n",
    "plt.figure(figsize = (8,7))\n",
    "plt.bar(sortedWinData['Country Name'][0:20], sortedWinData['Percentage Wins'][0:20])\n",
    "plt.ylabel(\"Percentage Wins\")\n",
    "plt.xlabel(\"Country\")\n",
    "plt.title(\"Most Successful Countries @ Football\")\n",
    "plt.xticks(rotation = 90)\n",
    "plt.show()"
   ]
  },
  {
   "cell_type": "markdown",
   "id": "64d4d869",
   "metadata": {},
   "source": [
    "There we have it! The most successful countries of all time at football are Ubangi-Shari (a former French colony in Africa), French Congo (former French colony) and Korea (before the seperation of states). Let's take a look at their record by filtering our original Football DataFrame to show only these countries matches:"
   ]
  },
  {
   "cell_type": "code",
   "execution_count": 44,
   "id": "d8043e08",
   "metadata": {},
   "outputs": [
    {
     "data": {
      "text/html": [
       "<div>\n",
       "<style scoped>\n",
       "    .dataframe tbody tr th:only-of-type {\n",
       "        vertical-align: middle;\n",
       "    }\n",
       "\n",
       "    .dataframe tbody tr th {\n",
       "        vertical-align: top;\n",
       "    }\n",
       "\n",
       "    .dataframe thead th {\n",
       "        text-align: right;\n",
       "    }\n",
       "</style>\n",
       "<table border=\"1\" class=\"dataframe\">\n",
       "  <thead>\n",
       "    <tr style=\"text-align: right;\">\n",
       "      <th></th>\n",
       "      <th>date</th>\n",
       "      <th>home_team</th>\n",
       "      <th>away_team</th>\n",
       "      <th>home_score</th>\n",
       "      <th>away_score</th>\n",
       "      <th>tournament</th>\n",
       "      <th>country</th>\n",
       "      <th>neutral</th>\n",
       "    </tr>\n",
       "  </thead>\n",
       "  <tbody>\n",
       "    <tr>\n",
       "      <td>2812</td>\n",
       "      <td>1942-08-16</td>\n",
       "      <td>Korea</td>\n",
       "      <td>Japan</td>\n",
       "      <td>5</td>\n",
       "      <td>0</td>\n",
       "      <td>Friendly</td>\n",
       "      <td>Korea</td>\n",
       "      <td>False</td>\n",
       "    </tr>\n",
       "    <tr>\n",
       "      <td>4322</td>\n",
       "      <td>1954-12-31</td>\n",
       "      <td>French Congo</td>\n",
       "      <td>Cameroon</td>\n",
       "      <td>5</td>\n",
       "      <td>1</td>\n",
       "      <td>Friendly</td>\n",
       "      <td>French Congo</td>\n",
       "      <td>False</td>\n",
       "    </tr>\n",
       "    <tr>\n",
       "      <td>4715</td>\n",
       "      <td>1956-12-31</td>\n",
       "      <td>Ubangi-Shari</td>\n",
       "      <td>Cameroon</td>\n",
       "      <td>5</td>\n",
       "      <td>1</td>\n",
       "      <td>Friendly</td>\n",
       "      <td>Ubangi-Shari</td>\n",
       "      <td>False</td>\n",
       "    </tr>\n",
       "  </tbody>\n",
       "</table>\n",
       "</div>"
      ],
      "text/plain": [
       "            date     home_team away_team  home_score  away_score tournament  \\\n",
       "2812  1942-08-16         Korea     Japan           5           0   Friendly   \n",
       "4322  1954-12-31  French Congo  Cameroon           5           1   Friendly   \n",
       "4715  1956-12-31  Ubangi-Shari  Cameroon           5           1   Friendly   \n",
       "\n",
       "           country  neutral  \n",
       "2812         Korea    False  \n",
       "4322  French Congo    False  \n",
       "4715  Ubangi-Shari    False  "
      ]
     },
     "execution_count": 44,
     "metadata": {},
     "output_type": "execute_result"
    }
   ],
   "source": [
    "TopTeams = Football[(Football[\"country\"] == \"Ubangi-Shari\") | \n",
    "                   (Football[\"country\"] == \"French Congo\") | \n",
    "                   (Football[\"country\"] == \"Korea\") ]\n",
    "TopTeams.head()"
   ]
  },
  {
   "cell_type": "markdown",
   "id": "881e0f00",
   "metadata": {},
   "source": [
    "Each team only played (and won) a single match before, but I am inclined to give Korea the crown as they had the largest goal difference... So there we have it - **Korea is the greatest football nation on the planet!**"
   ]
  },
  {
   "cell_type": "markdown",
   "id": "82c26dae",
   "metadata": {},
   "source": [
    "---\n",
    "## Useful Pandas DataFrame Functions\n",
    "\n",
    "**There are lots of very useful pandas specfic functions - those related to DataFrames can be found [here](https://pandas.pydata.org/docs/reference/frame.html).**\n",
    "\n",
    "---\n",
    "## Activities\n",
    "\n",
    "### 1. Brazil vs Portugal \n",
    "Using \"all_matches.csv\" find out the following:\n",
    "- How many football games have been played between Brazil and Portugal.\n",
    "- Who has won the most when playing each other.\n",
    "- Who has won the most games overall (i.e. not just against each other).\n",
    "\n",
    "### 2. Learning = Earning?\n",
    "Using the \"BankChurners\" data:\n",
    "- Use a for loop to determine the mean credit limit for each education level in the data.\n",
    "- Plot the mean credit limit for each education level in the data. \n",
    "- Plot the mean utilisation ration for each education level in the data.\n",
    "\n",
    "*You will want to use .mean() for this activity. If you use the .mean() method it will return mean for all the columns, you will need to select the column you are interested in.*\n",
    "\n",
    "### 3. \"The price of greatness is responsibility.\"\n",
    "Using the \"politics_apr2020\" data:\n",
    "- Print the countries with the youngest leaders.\n",
    "- Print the countries with the oldest leaders.\n",
    "- Find the longest serving leader.\n",
    "- Plot the leaders age against tenure.\n",
    "\n",
    "### 4. Covid-19\n",
    "Using the \"covid19_stats.csv\" data:\n",
    "- Calculate the total number of excess deaths attributed to Covid-19 for each country in 2021.\n",
    "- Show the top and bottom 5 countries by excess deaths.\n",
    "- Plot the total number of deaths attributed to covid.\n",
    "\n",
    "### 5. Global Statistics\n",
    "Using the \"global_stats.csv\" data:\n",
    "- Determine how many different countries can be found within each continental base in this dataset.\n",
    "- Print out the top/bottom 5 populated countries within each continental base.\n",
    "- Rank and plot the Human development Index (HDI) for countries with more than 50 million internet users."
   ]
  }
 ],
 "metadata": {
  "celltoolbar": "Edit Metadata",
  "kernelspec": {
   "display_name": "Python 3",
   "language": "python",
   "name": "python3"
  },
  "language_info": {
   "codemirror_mode": {
    "name": "ipython",
    "version": 3
   },
   "file_extension": ".py",
   "mimetype": "text/x-python",
   "name": "python",
   "nbconvert_exporter": "python",
   "pygments_lexer": "ipython3",
   "version": "3.7.4"
  }
 },
 "nbformat": 4,
 "nbformat_minor": 5
}

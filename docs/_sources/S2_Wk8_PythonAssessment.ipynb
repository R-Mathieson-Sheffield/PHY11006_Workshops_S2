{
 "cells": [
  {
   "cell_type": "markdown",
   "id": "601ae252",
   "metadata": {},
   "source": [
    "# Python Assessment\n",
    "\n",
    "This week will be dedicated to performing a Python related skills task. In this activity you will use the Python skills you have developed throughout the year to perform a task that will involve extracting data from a Pandas DataFrame, performing a non-linear fit and producing a high quality plot. \n",
    "\n",
    "Further details for the assessment will be provided closer to the time. You will have this session to work on the skills task and will need to submit it for assessment by 10 am on Monday of week 9."
   ]
  },
  {
   "cell_type": "code",
   "execution_count": null,
   "id": "231c6e7f",
   "metadata": {},
   "outputs": [],
   "source": []
  }
 ],
 "metadata": {
  "kernelspec": {
   "display_name": "Python 3",
   "language": "python",
   "name": "python3"
  },
  "language_info": {
   "codemirror_mode": {
    "name": "ipython",
    "version": 3
   },
   "file_extension": ".py",
   "mimetype": "text/x-python",
   "name": "python",
   "nbconvert_exporter": "python",
   "pygments_lexer": "ipython3",
   "version": "3.7.4"
  }
 },
 "nbformat": 4,
 "nbformat_minor": 5
}

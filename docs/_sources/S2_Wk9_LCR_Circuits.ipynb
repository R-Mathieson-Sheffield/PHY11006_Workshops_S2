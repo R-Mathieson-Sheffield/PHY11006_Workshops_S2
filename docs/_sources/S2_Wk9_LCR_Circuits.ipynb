{
 "cells": [
  {
   "cell_type": "markdown",
   "id": "892614d9",
   "metadata": {},
   "source": [
    "# Simularing AC Circuits\n",
    "\n",
    "In this session we will look at LCR circuits in preperation for your \"LCR Circuit Response\" lab in the following week. This session can be used to familiarise yourself with tools like Multisim and plan your analysis code for the lab session. \n",
    "\n",
    "Materials for this session will be provided closer to the time."
   ]
  },
  {
   "cell_type": "code",
   "execution_count": null,
   "id": "9dd70eb8",
   "metadata": {},
   "outputs": [],
   "source": []
  }
 ],
 "metadata": {
  "kernelspec": {
   "display_name": "Python 3",
   "language": "python",
   "name": "python3"
  },
  "language_info": {
   "codemirror_mode": {
    "name": "ipython",
    "version": 3
   },
   "file_extension": ".py",
   "mimetype": "text/x-python",
   "name": "python",
   "nbconvert_exporter": "python",
   "pygments_lexer": "ipython3",
   "version": "3.7.4"
  }
 },
 "nbformat": 4,
 "nbformat_minor": 5
}

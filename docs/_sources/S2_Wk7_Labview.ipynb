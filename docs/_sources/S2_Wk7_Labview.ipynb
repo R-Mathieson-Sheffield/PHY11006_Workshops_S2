{
 "cells": [
  {
   "cell_type": "markdown",
   "id": "af200575",
   "metadata": {},
   "source": [
    "# Using Lab View\n",
    "\n",
    "This session will be dedicated to learning to use LabView for your lab course. Following this, there will be time at the end of the session to discuss anything Python related in preperation for the Python skills assessment after the Easter Break.\n",
    "\n",
    "Materials will be uploaded here closer to the time."
   ]
  },
  {
   "cell_type": "code",
   "execution_count": null,
   "id": "7fefceba",
   "metadata": {},
   "outputs": [],
   "source": []
  }
 ],
 "metadata": {
  "kernelspec": {
   "display_name": "Python 3",
   "language": "python",
   "name": "python3"
  },
  "language_info": {
   "codemirror_mode": {
    "name": "ipython",
    "version": 3
   },
   "file_extension": ".py",
   "mimetype": "text/x-python",
   "name": "python",
   "nbconvert_exporter": "python",
   "pygments_lexer": "ipython3",
   "version": "3.7.4"
  }
 },
 "nbformat": 4,
 "nbformat_minor": 5
}
